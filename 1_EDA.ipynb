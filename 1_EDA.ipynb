{
 "cells": [
  {
   "cell_type": "markdown",
   "metadata": {},
   "source": [
    "# Интерпретация A/B теста\n",
    "\n",
    "Ход исследования:\n",
    "1. Разведочный анализ (EDA)\n",
    "2. [Проверка данных на нормальность](https://machinelearningmastery.com/a-gentle-introduction-to-normality-tests-in-python/)\n",
    "3. Выбор теста для проверки гипотезы\n",
    "4. Проведение статистического теста\n",
    "5. Обработка экстремальных выбросов\n",
    "6. Проведение тестов для очищенных данных\n",
    "7. Заключение"
   ]
  },
  {
   "cell_type": "code",
   "execution_count": 2,
   "metadata": {},
   "outputs": [
    {
     "name": "stdout",
     "output_type": "stream",
     "text": [
      "Populating the interactive namespace from numpy and matplotlib\n"
     ]
    }
   ],
   "source": [
    "# подключение библиотек\n",
    "import pandas as pd\n",
    "%pylab inline\n",
    "import seaborn as sns\n",
    "from scipy import stats\n",
    "from statsmodels.graphics.gofplots import qqplot\n",
    "\n",
    "sns.set_style('darkgrid')"
   ]
  },
  {
   "cell_type": "code",
   "execution_count": 3,
   "metadata": {},
   "outputs": [],
   "source": [
    "# считывание данных\n",
    "df = pd.read_csv('../data_in/test_data.csv', index_col='user_id')"
   ]
  },
  {
   "cell_type": "markdown",
   "metadata": {},
   "source": [
    "## Смотрим на данные"
   ]
  },
  {
   "cell_type": "code",
   "execution_count": 4,
   "metadata": {},
   "outputs": [
    {
     "data": {
      "text/html": [
       "<div>\n",
       "<style scoped>\n",
       "    .dataframe tbody tr th:only-of-type {\n",
       "        vertical-align: middle;\n",
       "    }\n",
       "\n",
       "    .dataframe tbody tr th {\n",
       "        vertical-align: top;\n",
       "    }\n",
       "\n",
       "    .dataframe thead th {\n",
       "        text-align: right;\n",
       "    }\n",
       "</style>\n",
       "<table border=\"1\" class=\"dataframe\">\n",
       "  <thead>\n",
       "    <tr style=\"text-align: right;\">\n",
       "      <th></th>\n",
       "      <th>group</th>\n",
       "      <th>commission</th>\n",
       "    </tr>\n",
       "    <tr>\n",
       "      <th>user_id</th>\n",
       "      <th></th>\n",
       "      <th></th>\n",
       "    </tr>\n",
       "  </thead>\n",
       "  <tbody>\n",
       "    <tr>\n",
       "      <th>0</th>\n",
       "      <td>test</td>\n",
       "      <td>3.246642</td>\n",
       "    </tr>\n",
       "    <tr>\n",
       "      <th>1</th>\n",
       "      <td>test</td>\n",
       "      <td>10.516064</td>\n",
       "    </tr>\n",
       "    <tr>\n",
       "      <th>2</th>\n",
       "      <td>control</td>\n",
       "      <td>1.529808</td>\n",
       "    </tr>\n",
       "    <tr>\n",
       "      <th>3</th>\n",
       "      <td>test</td>\n",
       "      <td>5.645316</td>\n",
       "    </tr>\n",
       "    <tr>\n",
       "      <th>4</th>\n",
       "      <td>control</td>\n",
       "      <td>13.602017</td>\n",
       "    </tr>\n",
       "  </tbody>\n",
       "</table>\n",
       "</div>"
      ],
      "text/plain": [
       "           group  commission\n",
       "user_id                     \n",
       "0           test    3.246642\n",
       "1           test   10.516064\n",
       "2        control    1.529808\n",
       "3           test    5.645316\n",
       "4        control   13.602017"
      ]
     },
     "execution_count": 4,
     "metadata": {},
     "output_type": "execute_result"
    }
   ],
   "source": [
    "df.head()"
   ]
  },
  {
   "cell_type": "code",
   "execution_count": 5,
   "metadata": {},
   "outputs": [
    {
     "name": "stdout",
     "output_type": "stream",
     "text": [
      "<class 'pandas.core.frame.DataFrame'>\n",
      "Int64Index: 2000 entries, 0 to 1999\n",
      "Data columns (total 2 columns):\n",
      "group         2000 non-null object\n",
      "commission    2000 non-null float64\n",
      "dtypes: float64(1), object(1)\n",
      "memory usage: 46.9+ KB\n"
     ]
    }
   ],
   "source": [
    "df.info()"
   ]
  },
  {
   "cell_type": "code",
   "execution_count": 6,
   "metadata": {},
   "outputs": [
    {
     "data": {
      "text/html": [
       "<div>\n",
       "<style scoped>\n",
       "    .dataframe tbody tr th:only-of-type {\n",
       "        vertical-align: middle;\n",
       "    }\n",
       "\n",
       "    .dataframe tbody tr th {\n",
       "        vertical-align: top;\n",
       "    }\n",
       "\n",
       "    .dataframe thead th {\n",
       "        text-align: right;\n",
       "    }\n",
       "</style>\n",
       "<table border=\"1\" class=\"dataframe\">\n",
       "  <thead>\n",
       "    <tr style=\"text-align: right;\">\n",
       "      <th></th>\n",
       "      <th>commission</th>\n",
       "    </tr>\n",
       "  </thead>\n",
       "  <tbody>\n",
       "    <tr>\n",
       "      <th>count</th>\n",
       "      <td>2000.000000</td>\n",
       "    </tr>\n",
       "    <tr>\n",
       "      <th>mean</th>\n",
       "      <td>5.661489</td>\n",
       "    </tr>\n",
       "    <tr>\n",
       "      <th>std</th>\n",
       "      <td>7.291695</td>\n",
       "    </tr>\n",
       "    <tr>\n",
       "      <th>min</th>\n",
       "      <td>0.069963</td>\n",
       "    </tr>\n",
       "    <tr>\n",
       "      <th>25%</th>\n",
       "      <td>2.014997</td>\n",
       "    </tr>\n",
       "    <tr>\n",
       "      <th>50%</th>\n",
       "      <td>3.700463</td>\n",
       "    </tr>\n",
       "    <tr>\n",
       "      <th>75%</th>\n",
       "      <td>6.709476</td>\n",
       "    </tr>\n",
       "    <tr>\n",
       "      <th>max</th>\n",
       "      <td>103.144899</td>\n",
       "    </tr>\n",
       "  </tbody>\n",
       "</table>\n",
       "</div>"
      ],
      "text/plain": [
       "        commission\n",
       "count  2000.000000\n",
       "mean      5.661489\n",
       "std       7.291695\n",
       "min       0.069963\n",
       "25%       2.014997\n",
       "50%       3.700463\n",
       "75%       6.709476\n",
       "max     103.144899"
      ]
     },
     "execution_count": 6,
     "metadata": {},
     "output_type": "execute_result"
    }
   ],
   "source": [
    "df.describe()"
   ]
  },
  {
   "cell_type": "markdown",
   "metadata": {},
   "source": [
    "Максимальное значение очень далеко отстоит от основной выборки.  \n",
    "Необходимо визуализировать и проверить выборку на нормальность"
   ]
  },
  {
   "cell_type": "code",
   "execution_count": 7,
   "metadata": {},
   "outputs": [
    {
     "name": "stdout",
     "output_type": "stream",
     "text": [
      "True\n"
     ]
    },
    {
     "data": {
      "image/png": "[encoded data removed]",
      "text/plain": [
       "<Figure size 432x288 with 1 Axes>"
      ]
     },
     "metadata": {
      "needs_background": "light"
     },
     "output_type": "display_data"
    }
   ],
   "source": [
    "sns.countplot(df['group']);\n",
    "are_groups_equal = df[df['group']=='test'].shape == df[df['group']=='control'].shape\n",
    "print(are_groups_equal)"
   ]
  },
  {
   "cell_type": "code",
   "execution_count": 8,
   "metadata": {},
   "outputs": [
    {
     "name": "stderr",
     "output_type": "stream",
     "text": [
      "/anaconda3/lib/python3.6/site-packages/scipy/stats/stats.py:1713: FutureWarning: Using a non-tuple sequence for multidimensional indexing is deprecated; use `arr[tuple(seq)]` instead of `arr[seq]`. In the future this will be interpreted as an array index, `arr[np.array(seq)]`, which will result either in an error or a different result.\n",
      "  return np.add.reduce(sorted[indexer] * weights, axis=axis) / sumval\n"
     ]
    },
    {
     "data": {
      "image/png": "[encoded data removed]",
      "text/plain": [
       "<Figure size 432x288 with 1 Axes>"
      ]
     },
     "metadata": {
      "needs_background": "light"
     },
     "output_type": "display_data"
    }
   ],
   "source": [
    "sns.distplot(df['commission']);"
   ]
  },
  {
   "cell_type": "code",
   "execution_count": 9,
   "metadata": {},
   "outputs": [
    {
     "data": {
      "image/png": "[encoded data removed]",
      "text/plain": [
       "<Figure size 432x288 with 1 Axes>"
      ]
     },
     "metadata": {
      "needs_background": "light"
     },
     "output_type": "display_data"
    }
   ],
   "source": [
    "qqplot(df['commission'], line='s');"
   ]
  },
  {
   "cell_type": "code",
   "execution_count": 10,
   "metadata": {},
   "outputs": [
    {
     "name": "stdout",
     "output_type": "stream",
     "text": [
      "Нулевая гипотеза: выборка распределена нормально\n",
      "Тест: Шапиро-Уилка\n",
      "W: 0.5585280656814575, p-value: 0.0\n",
      "\n",
      "Вывод\n",
      "Можем отвергнуть нулевую гипотезу\n"
     ]
    }
   ],
   "source": [
    "# используем тест чтобы проверить выборку на нормальность\n",
    "\n",
    "stat, p = stats.shapiro(df['commission'])\n",
    "alpha = 1e-3\n",
    "\n",
    "print(\"Нулевая гипотеза: выборка распределена нормально\")\n",
    "print(\"Тест: Шапиро-Уилка\")\n",
    "print(f\"W: {stat}, p-value: {p}\")\n",
    "print('\\nВывод')\n",
    "if p < alpha:\n",
    "    print(\"Можем отвергнуть нулевую гипотезу\")\n",
    "else:\n",
    "    print(\"Не можем отвергнуть нулевую гипотезу\")"
   ]
  },
  {
   "cell_type": "markdown",
   "metadata": {},
   "source": [
    "### Выводы\n",
    "По QQ plot и результатам теста Шапиро-Уилка делаем заключение что данные распределены не нормально.  \n",
    "___\n",
    "\n",
    "У нас есть три варианта, что мы можем делать далее:\n",
    "\n",
    "1. Очистить данные от выбросов\n",
    "2. Преобразовать данные к нормальным, например с помощью логарифма\n",
    "3. Использовать bootstrap выборки\n",
    "4. Использовать непараметрический ранговый U-тест, вместо t-теста\n",
    "\n",
    "\n",
    "Минусы каждого из способов:\n",
    "1. Теряем клиентов, которые много денег принесли в продукт\n",
    "2. Переходим от понятных денег к непонятному бизнесу логарифму денег\n",
    "3. Затратный по вычислительным ресурсам и не устойчив к выбросам\n",
    "4. Трудноинтерпретируе\n",
    "\n",
    "___\n",
    "\n",
    "Выбираем способ 4, U-тест"
   ]
  },
  {
   "cell_type": "markdown",
   "metadata": {},
   "source": [
    "U тест непараметрический, соответственно нет ограничений по виду распределения данных.  \n",
    "Есть следующие ограничения:\n",
    "\n",
    "1. Обе выборки простые, объединённая выборка независима (одно наблюдение встречается 1 раз);\n",
    "2. Выборки взяты из неизвестных непрерывных распределений F(x) и G(y) соответственно"
   ]
  },
  {
   "cell_type": "code",
   "execution_count": 11,
   "metadata": {},
   "outputs": [
    {
     "data": {
      "text/plain": [
       "18.406194    1\n",
       "2.593625     1\n",
       "4.982359     1\n",
       "2.612242     1\n",
       "2.342356     1\n",
       "Name: commission, dtype: int64"
      ]
     },
     "execution_count": 11,
     "metadata": {},
     "output_type": "execute_result"
    }
   ],
   "source": [
    "# проверяем что каждое значение встречается только 1 раз\n",
    "df['commission'].value_counts().head()"
   ]
  },
  {
   "cell_type": "code",
   "execution_count": 15,
   "metadata": {},
   "outputs": [
    {
     "data": {
      "image/png": "[encoded data removed]",
      "text/plain": [
       "<Figure size 432x288 with 1 Axes>"
      ]
     },
     "metadata": {
      "needs_background": "light"
     },
     "output_type": "display_data"
    }
   ],
   "source": [
    "sns.boxplot(x='commission', y='group', data=df);"
   ]
  },
  {
   "cell_type": "code",
   "execution_count": 27,
   "metadata": {},
   "outputs": [],
   "source": [
    "control = df[df['group'] == 'control']['commission']\n",
    "test = df[df['group'] == 'test']['commission']"
   ]
  },
  {
   "cell_type": "code",
   "execution_count": 38,
   "metadata": {},
   "outputs": [
    {
     "data": {
      "image/png": "[encoded data removed]",
      "text/plain": [
       "<Figure size 432x288 with 1 Axes>"
      ]
     },
     "metadata": {
      "needs_background": "light"
     },
     "output_type": "display_data"
    }
   ],
   "source": [
    "sns.distplot(test);\n",
    "sns.distplot(control);\n",
    "plt.legend(labels=['test', 'control']);"
   ]
  },
  {
   "cell_type": "code",
   "execution_count": 34,
   "metadata": {},
   "outputs": [
    {
     "name": "stdout",
     "output_type": "stream",
     "text": [
      "H1: P(x < y) > 1/2\n",
      "U-статистика: 632998.0, \n",
      "p-value: 3.546303863405979e-25 \n",
      "\n",
      "Значения из эксперементальной группы ниже значений из контрольной с вероятностью выше 0.5\n"
     ]
    }
   ],
   "source": [
    "print(\"H1: P(x < y) > 1/2\")\n",
    "\n",
    "U, p = stats.mannwhitneyu(x=test, \n",
    "                   y=control,\n",
    "                   use_continuity=True,\n",
    "                   alternative='greater')\n",
    "\n",
    "print(f'U-статистика: {U}, \\np-value: {p} \\n')\n",
    "alpha = 0.05\n",
    "if p > alpha:\n",
    "    print('Одинаковые распределения комиссии в контрольной группе и эксперементальной')\n",
    "else:\n",
    "    print('Значения из эксперементальной группы ниже значений из контрольной с вероятностью выше 0.5')"
   ]
  },
  {
   "cell_type": "markdown",
   "metadata": {},
   "source": [
    "## Работаем с выбросами"
   ]
  },
  {
   "cell_type": "code",
   "execution_count": 42,
   "metadata": {},
   "outputs": [],
   "source": [
    "def iqr_bounds(dataset):\n",
    "    q1, q3= np.percentile(control,[25,75])\n",
    "    iqr = iqr = q3 - q1\n",
    "    lower_bound = q1 -(1.5 * iqr) \n",
    "    upper_bound = q3 +(1.5 * iqr) \n",
    "    return lower_bound, upper_bound"
   ]
  },
  {
   "cell_type": "code",
   "execution_count": 45,
   "metadata": {},
   "outputs": [
    {
     "data": {
      "text/plain": [
       "92"
      ]
     },
     "execution_count": 45,
     "metadata": {},
     "output_type": "execute_result"
    }
   ],
   "source": [
    "l_control, u_control = iqr_bounds(control)\n",
    "(control > u_control).sum()"
   ]
  },
  {
   "cell_type": "code",
   "execution_count": 46,
   "metadata": {},
   "outputs": [
    {
     "data": {
      "text/plain": [
       "42"
      ]
     },
     "execution_count": 46,
     "metadata": {},
     "output_type": "execute_result"
    }
   ],
   "source": [
    "l_test, u_test = iqr_bounds(test)\n",
    "(test > u_test).sum()"
   ]
  },
  {
   "cell_type": "code",
   "execution_count": 55,
   "metadata": {},
   "outputs": [
    {
     "name": "stdout",
     "output_type": "stream",
     "text": [
      "51.482651728310174 19.55388586824799\n"
     ]
    }
   ],
   "source": [
    "cq99 = control.quantile(0.99)\n",
    "tq99 = test.quantile(0.99)\n",
    "print(cq99, tq99)"
   ]
  },
  {
   "cell_type": "code",
   "execution_count": 56,
   "metadata": {},
   "outputs": [],
   "source": [
    "control_clean = control[control < cq99]\n",
    "test_clean = test[test < tq99]"
   ]
  },
  {
   "cell_type": "code",
   "execution_count": 53,
   "metadata": {},
   "outputs": [
    {
     "name": "stdout",
     "output_type": "stream",
     "text": [
      "H1: P(x < y) > 1/2\n",
      "U-статистика: 623411.0, \n",
      "p-value: 5.098649402857545e-26 \n",
      "\n",
      "Значения из эксперементальной группы ниже значений из контрольной с вероятностью выше 0.5\n"
     ]
    }
   ],
   "source": [
    "print(\"H1: P(x < y) > 1/2\")\n",
    "\n",
    "U, p = stats.mannwhitneyu(x=test_clean, \n",
    "                   y=control_clean,\n",
    "                   use_continuity=True,\n",
    "                   alternative='greater')\n",
    "\n",
    "print(f'U-статистика: {U}, \\np-value: {p} \\n')\n",
    "alpha = 0.05\n",
    "if p > alpha:\n",
    "    print('Одинаковые распределения комиссии в контрольной группе и эксперементальной')\n",
    "else:\n",
    "    print('Значения из эксперементальной группы ниже значений из контрольной с вероятностью выше 0.5')"
   ]
  },
  {
   "cell_type": "code",
   "execution_count": 59,
   "metadata": {},
   "outputs": [
    {
     "name": "stdout",
     "output_type": "stream",
     "text": [
      "H1: P(x < y) > 1/2\n",
      "U-статистика: 632998.0, \n",
      "p-value: 2.454783978248039e-27 \n",
      "\n",
      "Значения из эксперементальной группы ниже значений из контрольной с вероятностью выше 0.5\n"
     ]
    }
   ],
   "source": [
    "print(\"H1: P(x < y) > 1/2\")\n",
    "\n",
    "U, p = stats.mannwhitneyu(x=test, \n",
    "                   y=control_clean,\n",
    "                   use_continuity=True,\n",
    "                   alternative='greater')\n",
    "\n",
    "print(f'U-статистика: {U}, \\np-value: {p} \\n')\n",
    "alpha = 0.05\n",
    "if p > alpha:\n",
    "    print('Одинаковые распределения комиссии в контрольной группе и эксперементальной')\n",
    "else:\n",
    "    print('Значения из эксперементальной группы ниже значений из контрольной с вероятностью выше 0.5')"
   ]
  },
  {
   "cell_type": "markdown",
   "metadata": {},
   "source": [
    "## Заключение\n",
    "\n",
    "Исходя из непараметрического U-теста проведенного для полных выборок и выборок очищенных от экстремальных выбросов \n",
    "делаем заключение что фича не увеличивает размер комиссии получаемый от клиента."
   ]
  }
 ],
 "metadata": {
  "kernelspec": {
   "display_name": "Python 3",
   "language": "python",
   "name": "python3"
  },
  "language_info": {
   "codemirror_mode": {
    "name": "ipython",
    "version": 3
   },
   "file_extension": ".py",
   "mimetype": "text/x-python",
   "name": "python",
   "nbconvert_exporter": "python",
   "pygments_lexer": "ipython3",
   "version": "3.6.6"
  }
 },
 "nbformat": 4,
 "nbformat_minor": 2
}
